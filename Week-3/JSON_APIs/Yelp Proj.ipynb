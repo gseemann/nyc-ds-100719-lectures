{
 "cells": [
  {
   "cell_type": "code",
   "execution_count": 1,
   "metadata": {},
   "outputs": [],
   "source": [
    "## importing 'mysql.connector' \n",
    "import mysql.connector \n",
    "import config\n",
    "from mysql.connector import errorcode\n",
    "import json\n",
    "import pandas as pd\n",
    "import requests"
   ]
  },
  {
   "cell_type": "code",
   "execution_count": 3,
   "metadata": {},
   "outputs": [],
   "source": [
    "## Connect to DB server on AWS\n",
    "## connecting to the database using 'connect()' method\n",
    "## it takes 3 required parameters 'host', 'user', 'passwd'\n",
    "cnx = mysql.connector.connect(\n",
    "    host = config.host,\n",
    "    user = config.admin,\n",
    "    passwd = config.password,\n",
    "   # database = \"Movies\"       #can say what database we expect everything loaded into\n",
    ")"
   ]
  },
  {
   "cell_type": "code",
   "execution_count": 4,
   "metadata": {},
   "outputs": [],
   "source": [
    "cursor = cnx.cursor()\n",
    "db_name = \"Yelp\""
   ]
  },
  {
   "cell_type": "code",
   "execution_count": 6,
   "metadata": {},
   "outputs": [
    {
     "name": "stdout",
     "output_type": "stream",
     "text": [
      "Failed creating database: 1007 (HY000): Can't create database 'Movies'; database exists\n"
     ]
    }
   ],
   "source": [
    "#create new db if it doesn't exist\n",
    "## Create new DB \n",
    "def create_database(cursor, database):\n",
    "    try:\n",
    "        cursor.execute(\n",
    "            \"CREATE DATABASE {} DEFAULT CHARACTER SET 'utf8'\".format(database))\n",
    "    except mysql.connector.Error as err:\n",
    "        print(\"Failed creating database: {}\".format(err))\n",
    "        exit(1)\n",
    "\n",
    "create_database(cursor, db_name)       #when we create a database we need to declare a name/where it will be stored"
   ]
  },
  {
   "cell_type": "code",
   "execution_count": 54,
   "metadata": {},
   "outputs": [],
   "source": [
    "create_query = \"\"\"\n",
    "CREATE TABLE rest (\n",
    "      ID varchar(30) NOT NULL,\n",
    "      name varchar(50),\n",
    "      url varchar(100),\n",
    "      review_count int(8),\n",
    "      rating float(5),\n",
    "      price varchar(4)\n",
    "    )\n",
    "\"\"\""
   ]
  },
  {
   "cell_type": "code",
   "execution_count": 55,
   "metadata": {},
   "outputs": [],
   "source": [
    "#uncomment if I need to drop table\n",
    "#cursor.execute(\"DROP Table reviews;\")"
   ]
  },
  {
   "cell_type": "code",
   "execution_count": 56,
   "metadata": {},
   "outputs": [],
   "source": [
    "x = 'i am x'"
   ]
  },
  {
   "cell_type": "code",
   "execution_count": 57,
   "metadata": {},
   "outputs": [
    {
     "data": {
      "text/plain": [
       "'hey whats up i am x now were done'"
      ]
     },
     "execution_count": 57,
     "metadata": {},
     "output_type": "execute_result"
    }
   ],
   "source": [
    "f'hey whats up {x} now were done' \n"
   ]
  },
  {
   "cell_type": "code",
   "execution_count": 58,
   "metadata": {},
   "outputs": [
    {
     "name": "stdout",
     "output_type": "stream",
     "text": [
      "Creating a new table\n",
      "already exists.\n"
     ]
    }
   ],
   "source": [
    "#try to create database table\n",
    "try:\n",
    "    print(\"Creating a new table\")\n",
    "    cursor.execute(create_query)\n",
    "except mysql.connector.Error as err:\n",
    "    if err.errno == errorcode.ER_TABLE_EXISTS_ERROR:\n",
    "        print(\"already exists.\")\n",
    "    else:\n",
    "        print(err.msg)\n",
    "else:\n",
    "    print(\"OK\")\n",
    "        \n",
    "cursor.close()\n",
    "cnx.close()"
   ]
  },
  {
   "cell_type": "code",
   "execution_count": 59,
   "metadata": {},
   "outputs": [],
   "source": [
    "create_review_query = \"\"\"\n",
    "CREATE TABLE reviews (\n",
    "      rev_ID varchar(30) NOT NULL,\n",
    "      rest_ID varchar(30) NOT NULL,\n",
    "      \n",
    "    )\n",
    "\"\"\"###NEED MORE STUFF HERE"
   ]
  },
  {
   "cell_type": "code",
   "execution_count": 60,
   "metadata": {},
   "outputs": [
    {
     "name": "stdout",
     "output_type": "stream",
     "text": [
      "Creating reviews table\n",
      "You have an error in your SQL syntax; check the manual that corresponds to your MySQL server version for the right syntax to use near ')' at line 5\n"
     ]
    }
   ],
   "source": [
    "## Connect to DB server on AWS\n",
    "## connecting to the database using 'connect()' method\n",
    "## it takes 3 required parameters 'host', 'user', 'passwd'\n",
    "cnx = mysql.connector.connect(\n",
    "    host = config.host,\n",
    "    user = config.admin,\n",
    "    passwd = config.password,\n",
    "    database = \"Yelp\")\n",
    "\n",
    "cursor = cnx.cursor()\n",
    "db_name = \"Yelp\"\n",
    "\n",
    "try:\n",
    "    print(\"Creating reviews table\")\n",
    "    cursor.execute(create_review_query)\n",
    "except mysql.connector.Error as err:\n",
    "    if err.errno == errorcode.ER_TABLE_EXISTS_ERROR:\n",
    "        print(\"already exists.\")\n",
    "    else:\n",
    "        print(err.msg)\n",
    "else:\n",
    "    print(\"OK\")\n",
    "        \n",
    "cursor.close()\n",
    "cnx.close()"
   ]
  },
  {
   "cell_type": "code",
   "execution_count": 61,
   "metadata": {},
   "outputs": [],
   "source": [
    "##Special DELETE table values leave commented out unless we want to truncate\n",
    "cnx = mysql.connector.connect(\n",
    "    host = config.host,\n",
    "    user = config.admin,\n",
    "    passwd = config.password,\n",
    "    database = \"Yelp\")\n",
    "\n",
    "cursor = cnx.cursor()\n",
    "db_name = \"Yelp\"\n",
    "\n",
    "cursor.execute(\"TRUNCATE Table rest;\")\n",
    "\n",
    "cursor.close()\n",
    "cnx.close()"
   ]
  },
  {
   "cell_type": "code",
   "execution_count": 62,
   "metadata": {},
   "outputs": [],
   "source": [
    "# Create a table for the rest\n",
    "api_key = \"pVQ1_kO1_bCk9EOvKaQGSoVd3ck5oYUbeTICdg4boxz5BEFKRfeUj6kIFlOmtljM81-UT6yUFLSaK8fJ01SfsBWuIda0n5jbfw0nFVI9lJQQkIUM32VGo3L2VtuxXXYx\"\n"
   ]
  },
  {
   "cell_type": "code",
   "execution_count": 63,
   "metadata": {},
   "outputs": [],
   "source": [
    "#define fxn for use later\n",
    "#this function takes in a list of tuples and insert them into the database\n",
    "def db_insert(parsed):\n",
    "    #open connection\n",
    "    cnx = mysql.connector.connect(\n",
    "    host = config.host,\n",
    "    user = config.admin,\n",
    "    passwd = config.password,\n",
    "    database = \"Yelp\")\n",
    "    \n",
    "    #create cursor\n",
    "    cursor = cnx.cursor()\n",
    "    \n",
    "    \n",
    "    insert_statement = (\"\"\"INSERT INTO rest \n",
    "                    (ID, name, url, review_count, rating, price) \n",
    "                    VALUES (%s,%s,%s,%s,%s,%s)\"\"\")\n",
    "    \n",
    "    cursor.executemany(insert_statement, parsed)\n",
    "    cnx.commit() \n",
    "    \n",
    "    cursor.close()\n",
    "    cnx.close()"
   ]
  },
  {
   "cell_type": "code",
   "execution_count": 64,
   "metadata": {},
   "outputs": [],
   "source": [
    "def rating_to_num(rate):\n",
    "    if type(rate)==str:\n",
    "        return len(rate)\n",
    "    else:\n",
    "        return 0"
   ]
  },
  {
   "cell_type": "code",
   "execution_count": 65,
   "metadata": {},
   "outputs": [],
   "source": [
    "# write a function to parse the API response \n",
    "# so that you can easily insert the data in to the DB\n",
    "def parsed_results(business_dict):\n",
    "    df = pd.DataFrame(business_dict)\n",
    "    df = df[['id', 'name', 'url', 'review_count', 'rating', 'price']]\n",
    "    df['price'] = df['price'].apply(rating_to_num)\n",
    "    list_of_tuples = list(df.itertuples(index=False,name=None))\n",
    "    return list_of_tuples"
   ]
  },
  {
   "cell_type": "code",
   "execution_count": 66,
   "metadata": {},
   "outputs": [],
   "source": [
    "def yelp_call(url_params, api_key):\n",
    "    url = 'https://api.yelp.com/v3/businesses/search'\n",
    "    headers = {'Authorization': 'Bearer {}'.format(api_key)}\n",
    "    response = requests.get(url, headers=headers, params=url_params)\n",
    "    \n",
    "    data = response.json()['businesses']\n",
    "    return data"
   ]
  },
  {
   "cell_type": "code",
   "execution_count": 67,
   "metadata": {},
   "outputs": [],
   "source": [
    "import time\n",
    "\n",
    "def all_results(url_params, api_key):\n",
    "    num = response.json()['total']        #returns total of last call\n",
    "    print('{} total matches found.'.format(num))\n",
    "    cur = 50\n",
    "    \n",
    "    while cur < num and cur < 1000:\n",
    "        url_params['offset'] = cur\n",
    "        results = yelp_call(url_params, api_key)\n",
    "        data = parsed_results(results)\n",
    "        db_insert(data)\n",
    "        time.sleep(1) #Wait a second\n",
    "        cur += 50\n",
    "    print(\"All uploaded\")"
   ]
  },
  {
   "cell_type": "code",
   "execution_count": 68,
   "metadata": {},
   "outputs": [
    {
     "data": {
      "text/plain": [
       "'Veg+et+ari+an+Food'"
      ]
     },
     "execution_count": 68,
     "metadata": {},
     "output_type": "execute_result"
    }
   ],
   "source": [
    "url_params['term']"
   ]
  },
  {
   "cell_type": "code",
   "execution_count": 69,
   "metadata": {},
   "outputs": [],
   "source": [
    "term = 'Vegetarian Food'\n",
    "location = 'Financial District, Manhattan, NY'\n",
    "SEARCH_LIMIT = 50\n",
    "\n",
    "url = 'https://api.yelp.com/v3/businesses/search'\n",
    "cur =0\n",
    "\n",
    "url_params = {\n",
    "                'term': term.replace(' ', '+'),\n",
    "                'location': location.replace(' ', '+'),\n",
    "                'limit': SEARCH_LIMIT,\n",
    "                'offset': cur\n",
    "            }\n",
    "#initial yelp call\n",
    "url = 'https://api.yelp.com/v3/businesses/search'\n",
    "headers = {'Authorization': 'Bearer {}'.format(api_key)}\n",
    "response = requests.get(url, headers=headers, params=url_params)\n",
    "\n",
    "first = response.json()['businesses']\n",
    "\n",
    "\n",
    "#initial parse\n",
    "\n",
    "data = parsed_results(first)\n",
    "\n",
    "#initial storage\n",
    "db_insert(data)\n",
    "\n",
    "#initial wait\n",
    "time.sleep(1) #Wait a second\n",
    "#cur starts at 50 since we already did one database commit\n",
    "cur += 50"
   ]
  },
  {
   "cell_type": "code",
   "execution_count": 70,
   "metadata": {
    "scrolled": false
   },
   "outputs": [
    {
     "name": "stdout",
     "output_type": "stream",
     "text": [
      "1500 total matches found.\n",
      "All uploaded\n"
     ]
    }
   ],
   "source": [
    "#Now finally we can call all_results\n",
    "all_results(url_params, api_key)\n"
   ]
  },
  {
   "cell_type": "code",
   "execution_count": 21,
   "metadata": {},
   "outputs": [],
   "source": [
    "#get IDs for SQL to look up review tables\n",
    "#open connection\n",
    "cnx = mysql.connector.connect(\n",
    "host = config.host,\n",
    "user = config.admin,\n",
    "passwd = config.password,\n",
    "database = \"Yelp\")\n",
    "\n",
    "#create cursor\n",
    "cursor = cnx.cursor()\n",
    "\n",
    "cursor.execute('SELECT DISTINCT ID FROM rest;')\n",
    "\n",
    "ids = cursor.fetchall()\n",
    "               \n",
    "    "
   ]
  },
  {
   "cell_type": "code",
   "execution_count": 41,
   "metadata": {},
   "outputs": [
    {
     "data": {
      "text/plain": [
       "('FvCslLyo0SlDKI52bEDekQ',)"
      ]
     },
     "execution_count": 41,
     "metadata": {},
     "output_type": "execute_result"
    }
   ],
   "source": [
    "ids[0]"
   ]
  },
  {
   "cell_type": "code",
   "execution_count": 34,
   "metadata": {},
   "outputs": [],
   "source": [
    "# url_params = {\n",
    "#                 'term': term.replace(' ', '+'),\n",
    "#                 'location': location.replace(' ', '+'),\n",
    "#                 'limit': SEARCH_LIMIT,\n",
    "#                 'offset': cur\n",
    "#             }\n",
    "#initial yelp call\n",
    "biz = 'FvCslLyo0SlDKI52bEDekQ'\n",
    "url = \"https://api.yelp.com/v3/businesses/{}/reviews\".format(biz)\n",
    "headers = {'Authorization': 'Bearer {}'.format(api_key)}\n",
    "response = requests.get(url, headers=headers) #, params=url_params)\n",
    "\n",
    "first_rev = response.json()#['reviews']\n",
    "\n"
   ]
  },
  {
   "cell_type": "code",
   "execution_count": 43,
   "metadata": {},
   "outputs": [],
   "source": [
    "def yelp_call_review(url_params, api_key, biz_id):\n",
    "    rev_keys = ['id', 'text', 'rating']    \n",
    "    url = \"https://api.yelp.com/v3/businesses/{}/reviews\".format(biz_id)\n",
    "    headers = {'Authorization': 'Bearer {}'.format(api_key)}\n",
    "    response = requests.get(url, headers=headers, params=url_params)\n",
    "    data = response.json()['reviews']\n",
    "    list_of_rev = []\n",
    "    for review in data:\n",
    "        temp_tuple = ()\n",
    "        if rev_keys in review.keys():\n",
    "            temp_tuple = (review['id'], review['text'], review['rating'])\n",
    "        else:\n",
    "            temp_tuple = ('','','')\n",
    "        list_of_rev.append(temp_tuple)\n",
    "             \n",
    "    return list_of_rev\n",
    "    "
   ]
  },
  {
   "cell_type": "code",
   "execution_count": null,
   "metadata": {},
   "outputs": [],
   "source": [
    "db_list = yelp_call_review(url_params, api_key, biz_id)\n",
    "\n",
    "cnx = mysql.connector.connect(\n",
    "host = config.host,\n",
    "user = config.admin,\n",
    "passwd = config.password,\n",
    "database = \"Yelp\")\n",
    "\n",
    "#create cursor\n",
    "cursor = cnx.cursor()\n",
    "\n",
    "\n",
    "insert_statement = (\"\"\"INSERT INTO review \n",
    "                (ID, name, url, review_count, rating, price) \n",
    "                VALUES (%s,%s,%s,%s,%s,%s)\"\"\")\n",
    "\n",
    "cursor.executemany(insert_statement, parsed)\n",
    "cnx.commit() \n",
    "\n",
    "cursor.close()\n",
    "cnx.close()"
   ]
  },
  {
   "cell_type": "code",
   "execution_count": 35,
   "metadata": {},
   "outputs": [
    {
     "data": {
      "text/plain": [
       "dict_keys(['reviews', 'total', 'possible_languages'])"
      ]
     },
     "execution_count": 35,
     "metadata": {},
     "output_type": "execute_result"
    }
   ],
   "source": [
    "first_rev.keys()"
   ]
  },
  {
   "cell_type": "code",
   "execution_count": null,
   "metadata": {},
   "outputs": [],
   "source": []
  },
  {
   "cell_type": "code",
   "execution_count": 39,
   "metadata": {},
   "outputs": [
    {
     "data": {
      "text/plain": [
       "dict_keys(['id', 'url', 'text', 'rating', 'time_created', 'user'])"
      ]
     },
     "execution_count": 39,
     "metadata": {},
     "output_type": "execute_result"
    }
   ],
   "source": [
    "(first_rev['reviews'][0]).keys()"
   ]
  },
  {
   "cell_type": "code",
   "execution_count": null,
   "metadata": {},
   "outputs": [],
   "source": [
    "# df = pd.DataFrame(results)\n",
    "# df = df[['id', 'name', 'url', 'review_count', 'rating', 'price']]\n",
    "# df"
   ]
  },
  {
   "cell_type": "code",
   "execution_count": null,
   "metadata": {
    "scrolled": true
   },
   "outputs": [],
   "source": [
    "# df['price'].dtype"
   ]
  },
  {
   "cell_type": "code",
   "execution_count": null,
   "metadata": {},
   "outputs": [],
   "source": [
    "# def rating_to_num(rate):\n",
    "#     if type(rate)==str:\n",
    "#         return len(rate)\n",
    "#     else:\n",
    "#         return 0\n",
    "            "
   ]
  },
  {
   "cell_type": "code",
   "execution_count": null,
   "metadata": {},
   "outputs": [],
   "source": [
    "# df['price'] = df['price'].apply(rating_to_num)\n",
    "# df"
   ]
  },
  {
   "cell_type": "code",
   "execution_count": null,
   "metadata": {},
   "outputs": [],
   "source": [
    "# df['price'].fillna('', inplace=True)\n",
    "\n",
    "# df"
   ]
  },
  {
   "cell_type": "code",
   "execution_count": null,
   "metadata": {},
   "outputs": [],
   "source": []
  }
 ],
 "metadata": {
  "kernelspec": {
   "display_name": "Python 3",
   "language": "python",
   "name": "python3"
  },
  "language_info": {
   "codemirror_mode": {
    "name": "ipython",
    "version": 3
   },
   "file_extension": ".py",
   "mimetype": "text/x-python",
   "name": "python",
   "nbconvert_exporter": "python",
   "pygments_lexer": "ipython3",
   "version": "3.7.3"
  }
 },
 "nbformat": 4,
 "nbformat_minor": 2
}
